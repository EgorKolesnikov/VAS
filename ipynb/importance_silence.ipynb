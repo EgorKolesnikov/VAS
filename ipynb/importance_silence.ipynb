{
 "cells": [
  {
   "cell_type": "code",
   "execution_count": 1,
   "metadata": {
    "collapsed": false
   },
   "outputs": [],
   "source": [
    "import pandas as pd\n",
    "from sklearn.ensemble import RandomForestClassifier\n",
    "from sklearn.model_selection import cross_val_score\n",
    "from sklearn.model_selection import train_test_split"
   ]
  },
  {
   "cell_type": "code",
   "execution_count": 2,
   "metadata": {
    "collapsed": true
   },
   "outputs": [],
   "source": [
    "with open('/home/kolegor/Code/VAS/data/nn_data/_train.txt', 'r') as inf:\n",
    "    X = []\n",
    "    Y = []\n",
    "    for i, line in enumerate(inf):\n",
    "        if i > 0:\n",
    "            tokens = line.split(',')\n",
    "            X.append(map(float, tokens[1].split(' ')[:-1]))\n",
    "            Y.append(int(tokens[0]))"
   ]
  },
  {
   "cell_type": "code",
   "execution_count": 3,
   "metadata": {
    "collapsed": false
   },
   "outputs": [
    {
     "name": "stdout",
     "output_type": "stream",
     "text": [
      "0\n",
      "1\n",
      "2\n",
      "3\n",
      "4\n",
      "5\n",
      "6\n",
      "7\n",
      "8\n",
      "9\n"
     ]
    }
   ],
   "source": [
    "results = []\n",
    "\n",
    "for i in xrange(10):\n",
    "    print i\n",
    "    X_train, X_test, y_train, y_test = train_test_split(X, Y, test_size=0.3, random_state=42 * i + 1)\n",
    "    clf = RandomForestClassifier(n_estimators=299)\n",
    "    clf.fit(X_train, y_train)\n",
    "    results.append(cross_val_score(clf, X_test, y_test, cv=5))"
   ]
  },
  {
   "cell_type": "code",
   "execution_count": 4,
   "metadata": {
    "collapsed": false
   },
   "outputs": [
    {
     "name": "stdout",
     "output_type": "stream",
     "text": [
      "[ 1.          1.          0.98795181  1.          0.98765432]\n",
      "[ 1.          1.          0.98780488  1.          1.        ]\n",
      "[ 1.          1.          1.          1.          0.98765432]\n",
      "[ 1.          1.          0.98780488  0.98780488  1.        ]\n",
      "[ 1.          1.          1.          1.          0.98780488]\n",
      "[ 0.98795181  0.98780488  1.          1.          1.        ]\n",
      "[ 1.          0.98780488  0.98780488  0.98780488  0.98780488]\n",
      "[ 1.          1.          1.          0.98780488  1.        ]\n",
      "[ 1.          1.          0.97560976  1.          1.        ]\n",
      "[ 1.  1.  1.  1.  1.]\n"
     ]
    }
   ],
   "source": [
    "for a in results:\n",
    "    print a"
   ]
  },
  {
   "cell_type": "code",
   "execution_count": 5,
   "metadata": {
    "collapsed": false
   },
   "outputs": [
    {
     "name": "stdout",
     "output_type": "stream",
     "text": [
      "(7, 0.1782081156136289)\n",
      "(37, 0.16743830823000583)\n",
      "(12, 0.12089372711743315)\n",
      "(6, 0.10770715457556815)\n",
      "(10, 0.10610099168800816)\n",
      "(20, 0.040088921219237031)\n",
      "(14, 0.03541751181648798)\n",
      "(29, 0.031218791734679351)\n",
      "(30, 0.023354213657110441)\n",
      "(11, 0.019750232679755446)\n",
      "(22, 0.014668091444848336)\n",
      "(16, 0.012884036378279378)\n",
      "(0, 0.010864405510544569)\n",
      "(38, 0.0096864500064065186)\n",
      "(17, 0.009396670910063425)\n",
      "(23, 0.0089808665600597005)\n",
      "(15, 0.0089307704274190925)\n",
      "(24, 0.0084497971682468646)\n",
      "(19, 0.0079809372199770318)\n",
      "(35, 0.0074073322622113351)\n",
      "(36, 0.0065259770684112936)\n",
      "(4, 0.0057044833115656307)\n",
      "(18, 0.0056427860600243391)\n",
      "(8, 0.0055063137409569638)\n",
      "(21, 0.0054726972620428322)\n",
      "(33, 0.0053643380979553424)\n",
      "(26, 0.0050764059325550982)\n",
      "(9, 0.0042651019896914636)\n",
      "(34, 0.0042423208837079323)\n",
      "(27, 0.0039997537004737771)\n",
      "(1, 0.003607543775080557)\n",
      "(32, 0.0031892670240429946)\n",
      "(2, 0.0025820177378617481)\n",
      "(25, 0.0024210187494569718)\n",
      "(13, 0.0023454230603838278)\n",
      "(28, 0.0015394713959075669)\n",
      "(5, 0.0011654413970433662)\n",
      "(31, 0.001093848885565287)\n",
      "(3, 0.00082846370730225982)\n"
     ]
    }
   ],
   "source": [
    "qwe = zip(range(len(clf.feature_importances_)), clf.feature_importances_)\n",
    "qwe = sorted(qwe, key=lambda x: x[1], reverse=True)\n",
    "\n",
    "for a in qwe:\n",
    "    print a"
   ]
  },
  {
   "cell_type": "markdown",
   "metadata": {
    "collapsed": true
   },
   "source": [
    "### silence"
   ]
  },
  {
   "cell_type": "code",
   "execution_count": 1,
   "metadata": {
    "collapsed": true
   },
   "outputs": [],
   "source": [
    "import pyaudio\n",
    "import wave\n",
    "import sys\n",
    "import ctypes\n",
    "import struct\n",
    "import scipy.io.wavfile as wav\n",
    "import numpy as np\n",
    "from time import sleep\n",
    "from collections import Counter"
   ]
  },
  {
   "cell_type": "code",
   "execution_count": 7,
   "metadata": {
    "collapsed": false
   },
   "outputs": [],
   "source": [
    "class AudioFile:\n",
    "    chunk = 44100\n",
    "\n",
    "    def __init__(self, file):\n",
    "        \"\"\" Init audio stream \"\"\" \n",
    "        self.wf = wave.open(file, 'rb')\n",
    "        self.p = pyaudio.PyAudio()\n",
    "        self.stream = self.p.open(\n",
    "            format = self.p.get_format_from_width(self.wf.getsampwidth()),\n",
    "            channels = self.wf.getnchannels(),\n",
    "            rate = self.wf.getframerate(),\n",
    "            output = True\n",
    "        )\n",
    "\n",
    "    def play(self):\n",
    "        \"\"\" Play entire file \"\"\"\n",
    "        data = self.wf.readframes(self.chunk)\n",
    "        \n",
    "        amplitude_threshold = 1000\n",
    "        counter_threshold = 35000\n",
    "        \n",
    "        while data != '':\n",
    "            amplitudes = map(lambda x: ctypes.c_ubyte(ord(x)).value, data)\n",
    "            amplitudes = [struct.unpack(\"h\", bytearray([a, b]))[0] for a, b in zip(amplitudes[:-1:2], amplitudes[1::2])]\n",
    "            count_lower, count_upper = 0, 0\n",
    "            \n",
    "            for a in amplitudes:\n",
    "                if abs(a) < amplitude_threshold:\n",
    "                    count_lower += 1\n",
    "                else:\n",
    "                    count_upper += 1\n",
    "            \n",
    "            # self.stream.write(data)\n",
    "            data = self.wf.readframes(self.chunk)\n",
    "            # print count_lower, count_upper, 'silence' if count_lower >= counter_threshold else 'voice'\n",
    "            # sleep(3)\n",
    "            print 'silence' if count_lower >= counter_threshold else 'voice'\n",
    "            \n",
    "\n",
    "    def close(self):\n",
    "        \"\"\" Graceful shutdown \"\"\" \n",
    "        self.stream.close()\n",
    "        self.p.terminate()\n",
    "    \n",
    "\n",
    "def util(path):\n",
    "    (rate,sig) = wav.read(path)\n",
    "    counter = Counter()\n",
    "    for a in sig:\n",
    "        counter[a] += 1\n",
    "    return counter\n",
    "    # wav.write(path_to_save, rate, sig)\n",
    "    \n",
    "    \n",
    "def one_by_one(path, path_to_save):\n",
    "    (rate,sig) = wav.read(path)\n",
    "    batch_size = 44100\n",
    "    for i in xrange(2): # len(sig) / 44100):\n",
    "        temp_sig = sig[i * batch_size : (i + 1) * batch_size]\n",
    "        wav.write(path_to_save, rate, temp_sig)\n",
    "        \n",
    "        sleep(2)\n",
    "        print len(temp_sig), np.mean(temp_sig), np.mean(np.abs(temp_sig))\n",
    "        a = AudioFile(path_to_save)\n",
    "        a.play()\n",
    "        a.close()"
   ]
  },
  {
   "cell_type": "code",
   "execution_count": 8,
   "metadata": {
    "collapsed": false,
    "scrolled": true
   },
   "outputs": [
    {
     "name": "stdout",
     "output_type": "stream",
     "text": [
      "voice\n",
      "voice\n",
      "voice\n",
      "voice\n",
      "voice\n",
      "voice\n",
      "voice\n",
      "voice\n",
      "voice\n",
      "voice\n",
      "voice\n",
      "voice\n",
      "voice\n",
      "voice\n",
      "voice\n",
      "voice\n",
      "voice\n",
      "voice\n",
      "voice\n",
      "voice\n",
      "voice\n",
      "voice\n",
      "voice\n",
      "voice\n",
      "voice\n",
      "voice\n",
      "voice\n",
      "voice\n",
      "voice\n",
      "voice\n",
      "voice\n",
      "voice\n",
      "voice\n",
      "voice\n",
      "voice\n",
      "voice\n",
      "voice\n",
      "voice\n",
      "voice\n",
      "voice\n",
      "voice\n",
      "voice\n",
      "voice\n",
      "voice\n",
      "silence\n",
      "voice\n",
      "voice\n",
      "voice\n",
      "voice\n",
      "voice\n",
      "voice\n",
      "silence\n",
      "voice\n",
      "voice\n",
      "voice\n",
      "voice\n",
      "voice\n",
      "voice\n",
      "voice\n",
      "voice\n",
      "voice\n",
      "voice\n",
      "voice\n",
      "voice\n",
      "voice\n",
      "voice\n",
      "voice\n",
      "voice\n",
      "voice\n",
      "voice\n",
      "voice\n",
      "voice\n",
      "voice\n",
      "voice\n",
      "voice\n",
      "voice\n",
      "voice\n",
      "voice\n",
      "voice\n",
      "voice\n",
      "voice\n",
      "voice\n",
      "voice\n",
      "voice\n",
      "silence\n",
      "voice\n",
      "voice\n",
      "silence\n",
      "voice\n",
      "voice\n",
      "voice\n",
      "voice\n",
      "voice\n",
      "voice\n",
      "voice\n",
      "voice\n",
      "voice\n",
      "voice\n",
      "voice\n",
      "voice\n",
      "voice\n",
      "voice\n",
      "voice\n",
      "voice\n",
      "voice\n",
      "voice\n",
      "voice\n",
      "voice\n",
      "voice\n",
      "voice\n",
      "voice\n",
      "voice\n",
      "voice\n",
      "voice\n",
      "voice\n",
      "voice\n",
      "voice\n",
      "voice\n",
      "voice\n",
      "voice\n",
      "voice\n",
      "voice\n",
      "voice\n"
     ]
    },
    {
     "ename": "KeyboardInterrupt",
     "evalue": "",
     "output_type": "error",
     "traceback": [
      "\u001b[0;31m---------------------------------------------------------------------------\u001b[0m",
      "\u001b[0;31mKeyboardInterrupt\u001b[0m                         Traceback (most recent call last)",
      "\u001b[0;32m<ipython-input-8-6d3413c23f11>\u001b[0m in \u001b[0;36m<module>\u001b[0;34m()\u001b[0m\n\u001b[1;32m      1\u001b[0m \u001b[0maudio\u001b[0m \u001b[0;34m=\u001b[0m \u001b[0mAudioFile\u001b[0m\u001b[0;34m(\u001b[0m\u001b[0;34m'/home/kolegor/Code/VAS/data/wav_files/wav_my_voice/1.wav'\u001b[0m\u001b[0;34m)\u001b[0m\u001b[0;34m\u001b[0m\u001b[0m\n\u001b[0;32m----> 2\u001b[0;31m \u001b[0maudio\u001b[0m\u001b[0;34m.\u001b[0m\u001b[0mplay\u001b[0m\u001b[0;34m(\u001b[0m\u001b[0;34m)\u001b[0m\u001b[0;34m\u001b[0m\u001b[0m\n\u001b[0m",
      "\u001b[0;32m<ipython-input-7-301e5f549a3d>\u001b[0m in \u001b[0;36mplay\u001b[0;34m(self)\u001b[0m\n\u001b[1;32m     22\u001b[0m         \u001b[0;32mwhile\u001b[0m \u001b[0mdata\u001b[0m \u001b[0;34m!=\u001b[0m \u001b[0;34m''\u001b[0m\u001b[0;34m:\u001b[0m\u001b[0;34m\u001b[0m\u001b[0m\n\u001b[1;32m     23\u001b[0m             \u001b[0mamplitudes\u001b[0m \u001b[0;34m=\u001b[0m \u001b[0mmap\u001b[0m\u001b[0;34m(\u001b[0m\u001b[0;32mlambda\u001b[0m \u001b[0mx\u001b[0m\u001b[0;34m:\u001b[0m \u001b[0mctypes\u001b[0m\u001b[0;34m.\u001b[0m\u001b[0mc_ubyte\u001b[0m\u001b[0;34m(\u001b[0m\u001b[0mord\u001b[0m\u001b[0;34m(\u001b[0m\u001b[0mx\u001b[0m\u001b[0;34m)\u001b[0m\u001b[0;34m)\u001b[0m\u001b[0;34m.\u001b[0m\u001b[0mvalue\u001b[0m\u001b[0;34m,\u001b[0m \u001b[0mdata\u001b[0m\u001b[0;34m)\u001b[0m\u001b[0;34m\u001b[0m\u001b[0m\n\u001b[0;32m---> 24\u001b[0;31m             \u001b[0mamplitudes\u001b[0m \u001b[0;34m=\u001b[0m \u001b[0;34m[\u001b[0m\u001b[0mstruct\u001b[0m\u001b[0;34m.\u001b[0m\u001b[0munpack\u001b[0m\u001b[0;34m(\u001b[0m\u001b[0;34m\"h\"\u001b[0m\u001b[0;34m,\u001b[0m \u001b[0mbytearray\u001b[0m\u001b[0;34m(\u001b[0m\u001b[0;34m[\u001b[0m\u001b[0ma\u001b[0m\u001b[0;34m,\u001b[0m \u001b[0mb\u001b[0m\u001b[0;34m]\u001b[0m\u001b[0;34m)\u001b[0m\u001b[0;34m)\u001b[0m\u001b[0;34m[\u001b[0m\u001b[0;36m0\u001b[0m\u001b[0;34m]\u001b[0m \u001b[0;32mfor\u001b[0m \u001b[0ma\u001b[0m\u001b[0;34m,\u001b[0m \u001b[0mb\u001b[0m \u001b[0;32min\u001b[0m \u001b[0mzip\u001b[0m\u001b[0;34m(\u001b[0m\u001b[0mamplitudes\u001b[0m\u001b[0;34m[\u001b[0m\u001b[0;34m:\u001b[0m\u001b[0;34m-\u001b[0m\u001b[0;36m1\u001b[0m\u001b[0;34m:\u001b[0m\u001b[0;36m2\u001b[0m\u001b[0;34m]\u001b[0m\u001b[0;34m,\u001b[0m \u001b[0mamplitudes\u001b[0m\u001b[0;34m[\u001b[0m\u001b[0;36m1\u001b[0m\u001b[0;34m:\u001b[0m\u001b[0;34m:\u001b[0m\u001b[0;36m2\u001b[0m\u001b[0;34m]\u001b[0m\u001b[0;34m)\u001b[0m\u001b[0;34m]\u001b[0m\u001b[0;34m\u001b[0m\u001b[0m\n\u001b[0m\u001b[1;32m     25\u001b[0m             \u001b[0mcount_lower\u001b[0m\u001b[0;34m,\u001b[0m \u001b[0mcount_upper\u001b[0m \u001b[0;34m=\u001b[0m \u001b[0;36m0\u001b[0m\u001b[0;34m,\u001b[0m \u001b[0;36m0\u001b[0m\u001b[0;34m\u001b[0m\u001b[0m\n\u001b[1;32m     26\u001b[0m \u001b[0;34m\u001b[0m\u001b[0m\n",
      "\u001b[0;31mKeyboardInterrupt\u001b[0m: "
     ]
    }
   ],
   "source": [
    "audio = AudioFile('/home/kolegor/Code/VAS/data/wav_files/wav_my_voice/1.wav')\n",
    "audio.play()"
   ]
  },
  {
   "cell_type": "code",
   "execution_count": 152,
   "metadata": {
    "collapsed": false
   },
   "outputs": [],
   "source": [
    "read_file = '/home/kolegor/Denis big.wav'\n",
    "temp_file = '/home/kolegor/Ilya__.wav'\n",
    "counter = util(read_file)"
   ]
  },
  {
   "cell_type": "code",
   "execution_count": 167,
   "metadata": {
    "collapsed": false
   },
   "outputs": [
    {
     "name": "stdout",
     "output_type": "stream",
     "text": [
      "44100 13.9794104308 537.016326531\n",
      "44100 -19.5114965986 961.780249433\n"
     ]
    }
   ],
   "source": [
    "one_by_one(read_file, temp_file)"
   ]
  },
  {
   "cell_type": "code",
   "execution_count": 170,
   "metadata": {
    "collapsed": false
   },
   "outputs": [
    {
     "name": "stdout",
     "output_type": "stream",
     "text": [
      "0.9169\n",
      "0.6106\n"
     ]
    }
   ],
   "source": [
    "(rate,sig) = wav.read(read_file)\n",
    "\n",
    "size = 30000\n",
    "qwe1 = sig[:size]\n",
    "qwe2 = sig[size:2*size]\n",
    "\n",
    "threshold = 700\n",
    "print len([a for a in qwe1 if abs(a) < threshold]) / float(len(qwe1))\n",
    "print len([a for a in qwe2 if abs(a) < threshold]) / float(len(qwe2))"
   ]
  },
  {
   "cell_type": "code",
   "execution_count": 27,
   "metadata": {
    "collapsed": false
   },
   "outputs": [],
   "source": [
    "import matplotlib.pyplot as plt\n",
    "import numpy as np\n",
    "import wave\n",
    "import sys\n",
    "%matplotlib inline\n",
    "\n",
    "def plot(path):\n",
    "    spf = wave.open(path, 'r')\n",
    "\n",
    "    #Extract Raw Audio from Wav File\n",
    "    signal = spf.readframes(-1)\n",
    "    signal = np.fromstring(signal, 'Int16')\n",
    "\n",
    "\n",
    "    #If Stereo\n",
    "    if spf.getnchannels() == 2:\n",
    "        print 'Just mono files'\n",
    "        sys.exit(0)\n",
    "\n",
    "    plt.figure(1)\n",
    "    plt.title('Signal Wave...')\n",
    "    plt.plot(signal[:88200])\n",
    "    print signal[:10]\n",
    "    plt.show()"
   ]
  },
  {
   "cell_type": "code",
   "execution_count": 28,
   "metadata": {
    "collapsed": false
   },
   "outputs": [
    {
     "name": "stdout",
     "output_type": "stream",
     "text": [
      "[-305 -267 -305 -248 -401 -191 -344   38   19  172]\n"
     ]
    },
    {
     "data": {
      "image/png": "[encoded data removed]",
      "text/plain": [
       "<matplotlib.figure.Figure at 0x7f57de467050>"
      ]
     },
     "metadata": {},
     "output_type": "display_data"
    }
   ],
   "source": [
    "plot('/home/kolegor/Downloads/Egor_1_converted.wav')"
   ]
  },
  {
   "cell_type": "code",
   "execution_count": null,
   "metadata": {
    "collapsed": true
   },
   "outputs": [],
   "source": []
  }
 ],
 "metadata": {
  "kernelspec": {
   "display_name": "Python 2",
   "language": "python",
   "name": "python2"
  },
  "language_info": {
   "codemirror_mode": {
    "name": "ipython",
    "version": 2
   },
   "file_extension": ".py",
   "mimetype": "text/x-python",
   "name": "python",
   "nbconvert_exporter": "python",
   "pygments_lexer": "ipython2",
   "version": "2.7.6"
  }
 },
 "nbformat": 4,
 "nbformat_minor": 2
}
